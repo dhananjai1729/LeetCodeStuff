class Solution(object):
    def climbStairs(self, n):
        """
        :type n: int
        :rtype: int
        """
        def factorial(x):
          result = 1
          for i in range(1, x + 1):
              result *= i
          return result
        
        if n==1:
          return 1
        k= 0
        count = 0 
        while k<= n//2:
          count += (factorial(n-k)/(factorial(n-2*k)*factorial(k)))
          k += 1
        return count 
