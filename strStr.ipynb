https://leetcode.com/problems/find-the-index-of-the-first-occurrence-in-a-string/description/
class Solution(object):
    def strStr(self, haystack, needle):
        """
        :type haystack: str
        :type needle: str
        :rtype: int
        """
        if len(needle) == 0 or len(haystack) == 0:
            return -1
        if len(haystack) < len(needle):
            return -1
        for i in range(len(haystack)):
            flag = 1
            for j in range(len(needle)):
                if i+j < (len(haystack)) :
                    if haystack[i+j] != needle[j]:
                        flag = 0
                        break
                else:
                    flag = 0
            if j == (len(needle) -1) and flag:
                return i
        return -1          
