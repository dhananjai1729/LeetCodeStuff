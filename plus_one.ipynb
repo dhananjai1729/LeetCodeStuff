https://leetcode.com/problems/plus-one/description/
class Solution(object):
    def plusOne(self, digits):
        """
        :type digits: List[int]
        :rtype: List[int]
        """
        if len(digits):
          temp = digits[0]
        for i in range(len(digits)-1,-1,-1):
            if digits[i] != 9:
                digits[i] += 1
                break
            else:
                digits[i] = 0
        if i == 0 and temp == 9:
            digits.insert(0,1)           
        return digits
